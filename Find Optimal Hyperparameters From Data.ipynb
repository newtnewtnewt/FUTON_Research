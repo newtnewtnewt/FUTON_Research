{
 "cells": [
  {
   "cell_type": "code",
   "execution_count": 3,
   "metadata": {},
   "outputs": [],
   "source": [
    "from itertools import product as cartesian_prod\n",
    "import numpy as np\n",
    "def calculate_all_hyperparameter_combos():\n",
    "    # Internal function to iterate by double\n",
    "    def frange(start, stop, step):\n",
    "        i = start\n",
    "        while i < stop:\n",
    "            yield i\n",
    "            i += step\n",
    "    # Gammas are incremented by 0.01\n",
    "    # Alphas are incremented by 0.1\n",
    "    gamma_values = [round(gamma, 2) for gamma in frange(0.01, 1.0, 0.01)]\n",
    "    alpha_values = [0.01, 0.05, 0.1]\n",
    "    # Return all possible combinations of hyperparameters using the cartesian product\n",
    "    return list(cartesian_prod(gamma_values, alpha_values))"
   ]
  },
  {
   "cell_type": "code",
   "execution_count": 1,
   "metadata": {},
   "outputs": [],
   "source": [
    "from itertools import product as cartesian_prod\n",
    "import numpy as np\n",
    "\"\"\"\n",
    "# calculate_all_hyperparameter_combos \n",
    "# \n",
    "# Input: N/A\n",
    "# \n",
    "# Output: A 2D Float Matrix containing all the desired hyperparameters to test\n",
    "# \n",
    "\"\"\"\n",
    "def calculate_all_hyperparameter_combos():\n",
    "    return [i/100 for i in range(1, 101)]"
   ]
  },
  {
   "cell_type": "code",
   "execution_count": 2,
   "metadata": {},
   "outputs": [],
   "source": [
    "###\n",
    "# After running all the data through the cluster, it is time to determine what the best average hyperparameters are\n",
    "## \n",
    "def determine_best_hyperparameters(file_location:str, specific_value:bool, gamma_in:float=-1.0, alpha_in:float=-1.0):\n",
    "    all_hyparameters = calculate_all_hyperparameter_combos()\n",
    "    # Open the file\n",
    "    all_values = {i:[] for i in all_hyparameters}\n",
    "    # Read and store all the accuracy values\n",
    "    with open(file_location, 'r') as f:\n",
    "        lines = f.readlines()\n",
    "        for line in lines:\n",
    "            split_line = line.split(',')\n",
    "            test_num = split_line[0]\n",
    "            alpha = float(split_line[1])\n",
    "            gamma = float(split_line[2])\n",
    "            accuracy = float(split_line[5])\n",
    "            all_values[(gamma, alpha)].append(accuracy)\n",
    "        # Sum all accuracy lists\n",
    "        for key, accuracies in all_values.items():\n",
    "            average = np.average(all_values[key])\n",
    "            all_values[key] = average\n",
    "        if specific_value:\n",
    "            key = (gamma_in, alpha_in)\n",
    "            print(key,\":\",all_values[key], \"-\", file_location)\n",
    "        else:\n",
    "            # Check for largest value\n",
    "            max_acc = 0\n",
    "            max_key = None\n",
    "            for key, accuracy in all_values.items():\n",
    "                if accuracy > max_acc:\n",
    "                    max_key = key\n",
    "                    max_acc = accuracy\n",
    "            print(max_key,\":\",max_acc, \"-\", file_location)\n",
    "    \n",
    "    "
   ]
  },
  {
   "cell_type": "code",
   "execution_count": 4,
   "metadata": {},
   "outputs": [],
   "source": [
    "###\n",
    "# After running all the data through the cluster, it is time to determine what the best average hyperparameters are\n",
    "## \n",
    "def determine_best_hyperparameters(file_location:str, specific_value:bool, gamma_in:float=-1.0, alpha_in:float=-1.0):\n",
    "    all_hyparameters = calculate_all_hyperparameter_combos()\n",
    "    # Open the file\n",
    "    all_values = {i:[] for i in all_hyparameters}\n",
    "    # Read and store all the accuracy values\n",
    "    with open(file_location, 'r') as f:\n",
    "        lines = f.readlines()\n",
    "        for line in lines:\n",
    "            split_line = line.split(',')\n",
    "            test_num = split_line[0]\n",
    "            gamma = float(split_line[1])\n",
    "            accuracy = float(split_line[4])\n",
    "            all_values[gamma].append(accuracy)\n",
    "        # Sum all accuracy lists\n",
    "        for key, accuracies in all_values.items():\n",
    "            average = np.average(all_values[key])\n",
    "            all_values[key] = average\n",
    "        if specific_value:\n",
    "            key = (gamma_in, alpha_in)\n",
    "            print(key,\":\",all_values[key], \"-\", file_location)\n",
    "        else:\n",
    "            # Check for largest value\n",
    "            max_acc = 0\n",
    "            max_key = None\n",
    "            for key, accuracy in all_values.items():\n",
    "                if accuracy > max_acc:\n",
    "                    max_key = key\n",
    "                    max_acc = accuracy\n",
    "            print(max_key,\":\",max_acc, \"-\", file_location)\n",
    "    \n",
    "    "
   ]
  },
  {
   "cell_type": "code",
   "execution_count": 23,
   "metadata": {},
   "outputs": [
    {
     "name": "stdout",
     "output_type": "stream",
     "text": [
      "(0.86, 0.1) : 0.6643585360664213 - HyperParameterOptimizations/train_no_weighting_runs.csv\n",
      "(0.86, 0.1) : 0.6508344117546555 - HyperParameterOptimizations/train_weighted_runs.csv\n",
      "(0.84, 0.1) : 0.7048005034990829 - HyperParameterOptimizations/test_weighted_runs.csv\n",
      "(0.81, 0.1) : 0.7129023248233838 - HyperParameterOptimizations/test_no_weighting_runs.csv\n"
     ]
    }
   ],
   "source": [
    "determine_best_hyperparameters('HyperParameterOptimizations/train_no_weighting_runs.csv', False)\n",
    "determine_best_hyperparameters('HyperParameterOptimizations/train_weighted_runs.csv', False)\n",
    "determine_best_hyperparameters('HyperParameterOptimizations/test_weighted_runs.csv', False)\n",
    "determine_best_hyperparameters('HyperParameterOptimizations/test_no_weighting_runs.csv', False)"
   ]
  },
  {
   "cell_type": "code",
   "execution_count": 22,
   "metadata": {},
   "outputs": [
    {
     "ename": "ValueError",
     "evalue": "could not convert string to float: '0.162280701754385970.9769647696476965'",
     "output_type": "error",
     "traceback": [
      "\u001b[1;31m---------------------------------------------------------------------------\u001b[0m",
      "\u001b[1;31mValueError\u001b[0m                                Traceback (most recent call last)",
      "\u001b[1;32m<ipython-input-22-4c3287bdfdc9>\u001b[0m in \u001b[0;36m<module>\u001b[1;34m\u001b[0m\n\u001b[1;32m----> 1\u001b[1;33m \u001b[0mdetermine_best_hyperparameters\u001b[0m\u001b[1;33m(\u001b[0m\u001b[1;34m'test_weighted_runs.csv'\u001b[0m\u001b[1;33m,\u001b[0m \u001b[1;32mFalse\u001b[0m\u001b[1;33m)\u001b[0m\u001b[1;33m\u001b[0m\u001b[1;33m\u001b[0m\u001b[0m\n\u001b[0m\u001b[0;32m      2\u001b[0m \u001b[0mdetermine_best_hyperparameters\u001b[0m\u001b[1;33m(\u001b[0m\u001b[1;34m'test_no_weighting_runs.csv'\u001b[0m\u001b[1;33m,\u001b[0m \u001b[1;32mFalse\u001b[0m\u001b[1;33m)\u001b[0m\u001b[1;33m\u001b[0m\u001b[1;33m\u001b[0m\u001b[0m\n",
      "\u001b[1;32m<ipython-input-20-7dc398c0ec43>\u001b[0m in \u001b[0;36mdetermine_best_hyperparameters\u001b[1;34m(file_location, specific_value, gamma_in, alpha_in)\u001b[0m\n\u001b[0;32m     14\u001b[0m             \u001b[0malpha\u001b[0m \u001b[1;33m=\u001b[0m \u001b[0mfloat\u001b[0m\u001b[1;33m(\u001b[0m\u001b[0msplit_line\u001b[0m\u001b[1;33m[\u001b[0m\u001b[1;36m1\u001b[0m\u001b[1;33m]\u001b[0m\u001b[1;33m)\u001b[0m\u001b[1;33m\u001b[0m\u001b[1;33m\u001b[0m\u001b[0m\n\u001b[0;32m     15\u001b[0m             \u001b[0mgamma\u001b[0m \u001b[1;33m=\u001b[0m \u001b[0mfloat\u001b[0m\u001b[1;33m(\u001b[0m\u001b[0msplit_line\u001b[0m\u001b[1;33m[\u001b[0m\u001b[1;36m2\u001b[0m\u001b[1;33m]\u001b[0m\u001b[1;33m)\u001b[0m\u001b[1;33m\u001b[0m\u001b[1;33m\u001b[0m\u001b[0m\n\u001b[1;32m---> 16\u001b[1;33m             \u001b[0maccuracy\u001b[0m \u001b[1;33m=\u001b[0m \u001b[0mfloat\u001b[0m\u001b[1;33m(\u001b[0m\u001b[0msplit_line\u001b[0m\u001b[1;33m[\u001b[0m\u001b[1;36m5\u001b[0m\u001b[1;33m]\u001b[0m\u001b[1;33m)\u001b[0m\u001b[1;33m\u001b[0m\u001b[1;33m\u001b[0m\u001b[0m\n\u001b[0m\u001b[0;32m     17\u001b[0m             \u001b[0mall_values\u001b[0m\u001b[1;33m[\u001b[0m\u001b[1;33m(\u001b[0m\u001b[0mgamma\u001b[0m\u001b[1;33m,\u001b[0m \u001b[0malpha\u001b[0m\u001b[1;33m)\u001b[0m\u001b[1;33m]\u001b[0m\u001b[1;33m.\u001b[0m\u001b[0mappend\u001b[0m\u001b[1;33m(\u001b[0m\u001b[0maccuracy\u001b[0m\u001b[1;33m)\u001b[0m\u001b[1;33m\u001b[0m\u001b[1;33m\u001b[0m\u001b[0m\n\u001b[0;32m     18\u001b[0m         \u001b[1;31m# Sum all accuracy lists\u001b[0m\u001b[1;33m\u001b[0m\u001b[1;33m\u001b[0m\u001b[1;33m\u001b[0m\u001b[0m\n",
      "\u001b[1;31mValueError\u001b[0m: could not convert string to float: '0.162280701754385970.9769647696476965'"
     ]
    }
   ],
   "source": [
    "determine_best_hyperparameters('test_weighted_runs.csv', False)\n",
    "determine_best_hyperparameters('test_no_weighting_runs.csv', False)"
   ]
  },
  {
   "cell_type": "code",
   "execution_count": 9,
   "metadata": {},
   "outputs": [
    {
     "ename": "KeyError",
     "evalue": "0.1",
     "output_type": "error",
     "traceback": [
      "\u001b[1;31m---------------------------------------------------------------------------\u001b[0m",
      "\u001b[1;31mKeyError\u001b[0m                                  Traceback (most recent call last)",
      "\u001b[1;32m<ipython-input-9-8f5a97f7813c>\u001b[0m in \u001b[0;36m<module>\u001b[1;34m\u001b[0m\n\u001b[0;32m      1\u001b[0m \u001b[1;31m# determine_best_hyperparameters('HyperParameterOptimizations/train_no_weighting_runs.csv', True, gamma_in=0.99, alpha_in=0.1)\u001b[0m\u001b[1;33m\u001b[0m\u001b[1;33m\u001b[0m\u001b[1;33m\u001b[0m\u001b[0m\n\u001b[0;32m      2\u001b[0m \u001b[1;31m# determine_best_hyperparameters('HyperParameterOptimizations/train_weighted_runs.csv', True, gamma_in=0.99, alpha_in=0.1)\u001b[0m\u001b[1;33m\u001b[0m\u001b[1;33m\u001b[0m\u001b[1;33m\u001b[0m\u001b[0m\n\u001b[1;32m----> 3\u001b[1;33m \u001b[0mdetermine_best_hyperparameters\u001b[0m\u001b[1;33m(\u001b[0m\u001b[1;34m'HyperParameterOptimizations/test_weighted_runs.csv'\u001b[0m\u001b[1;33m,\u001b[0m \u001b[1;32mTrue\u001b[0m\u001b[1;33m,\u001b[0m \u001b[0mgamma_in\u001b[0m\u001b[1;33m=\u001b[0m\u001b[1;36m0.99\u001b[0m\u001b[1;33m,\u001b[0m \u001b[0malpha_in\u001b[0m\u001b[1;33m=\u001b[0m\u001b[1;36m0.1\u001b[0m\u001b[1;33m)\u001b[0m\u001b[1;33m\u001b[0m\u001b[1;33m\u001b[0m\u001b[0m\n\u001b[0m\u001b[0;32m      4\u001b[0m \u001b[0mdetermine_best_hyperparameters\u001b[0m\u001b[1;33m(\u001b[0m\u001b[1;34m'HyperParameterOptimizations/test_no_weighting_runs.csv'\u001b[0m\u001b[1;33m,\u001b[0m \u001b[1;32mTrue\u001b[0m\u001b[1;33m,\u001b[0m \u001b[0mgamma_in\u001b[0m\u001b[1;33m=\u001b[0m\u001b[1;36m0.99\u001b[0m\u001b[1;33m,\u001b[0m \u001b[0malpha_in\u001b[0m\u001b[1;33m=\u001b[0m\u001b[1;36m0.1\u001b[0m\u001b[1;33m)\u001b[0m\u001b[1;33m\u001b[0m\u001b[1;33m\u001b[0m\u001b[0m\n",
      "\u001b[1;32m<ipython-input-8-090fae0610db>\u001b[0m in \u001b[0;36mdetermine_best_hyperparameters\u001b[1;34m(file_location, specific_value, gamma_in, alpha_in)\u001b[0m\n\u001b[0;32m     14\u001b[0m             \u001b[0mgamma\u001b[0m \u001b[1;33m=\u001b[0m \u001b[0mfloat\u001b[0m\u001b[1;33m(\u001b[0m\u001b[0msplit_line\u001b[0m\u001b[1;33m[\u001b[0m\u001b[1;36m1\u001b[0m\u001b[1;33m]\u001b[0m\u001b[1;33m)\u001b[0m\u001b[1;33m\u001b[0m\u001b[1;33m\u001b[0m\u001b[0m\n\u001b[0;32m     15\u001b[0m             \u001b[0maccuracy\u001b[0m \u001b[1;33m=\u001b[0m \u001b[0mfloat\u001b[0m\u001b[1;33m(\u001b[0m\u001b[0msplit_line\u001b[0m\u001b[1;33m[\u001b[0m\u001b[1;36m4\u001b[0m\u001b[1;33m]\u001b[0m\u001b[1;33m)\u001b[0m\u001b[1;33m\u001b[0m\u001b[1;33m\u001b[0m\u001b[0m\n\u001b[1;32m---> 16\u001b[1;33m             \u001b[0mall_values\u001b[0m\u001b[1;33m[\u001b[0m\u001b[0mgamma\u001b[0m\u001b[1;33m]\u001b[0m\u001b[1;33m.\u001b[0m\u001b[0mappend\u001b[0m\u001b[1;33m(\u001b[0m\u001b[0maccuracy\u001b[0m\u001b[1;33m)\u001b[0m\u001b[1;33m\u001b[0m\u001b[1;33m\u001b[0m\u001b[0m\n\u001b[0m\u001b[0;32m     17\u001b[0m         \u001b[1;31m# Sum all accuracy lists\u001b[0m\u001b[1;33m\u001b[0m\u001b[1;33m\u001b[0m\u001b[1;33m\u001b[0m\u001b[0m\n\u001b[0;32m     18\u001b[0m         \u001b[1;32mfor\u001b[0m \u001b[0mkey\u001b[0m\u001b[1;33m,\u001b[0m \u001b[0maccuracies\u001b[0m \u001b[1;32min\u001b[0m \u001b[0mall_values\u001b[0m\u001b[1;33m.\u001b[0m\u001b[0mitems\u001b[0m\u001b[1;33m(\u001b[0m\u001b[1;33m)\u001b[0m\u001b[1;33m:\u001b[0m\u001b[1;33m\u001b[0m\u001b[1;33m\u001b[0m\u001b[0m\n",
      "\u001b[1;31mKeyError\u001b[0m: 0.1"
     ]
    }
   ],
   "source": [
    "# determine_best_hyperparameters('HyperParameterOptimizations/train_no_weighting_runs.csv', True, gamma_in=0.99, alpha_in=0.1)\n",
    "# determine_best_hyperparameters('HyperParameterOptimizations/train_weighted_runs.csv', True, gamma_in=0.99, alpha_in=0.1)\n",
    "determine_best_hyperparameters('HyperParameterOptimizations/test_weighted_runs.csv', True, gamma_in=0.99, alpha_in=0.1)\n",
    "determine_best_hyperparameters('HyperParameterOptimizations/test_no_weighting_runs.csv', True, gamma_in=0.99, alpha_in=0.1)"
   ]
  },
  {
   "cell_type": "code",
   "execution_count": 5,
   "metadata": {},
   "outputs": [
    {
     "name": "stdout",
     "output_type": "stream",
     "text": [
      "0.01 : 0.7716805139636292 - FinalHyperParameters/test_weighted_runs.csv\n",
      "0.01 : 0.7390658757142107 - FinalHyperParameters/test_no_weighting_runs.csv\n"
     ]
    }
   ],
   "source": [
    "determine_best_hyperparameters('FinalHyperParameters/test_weighted_runs.csv', False)\n",
    "determine_best_hyperparameters('FinalHyperParameters/test_no_weighting_runs.csv', False)"
   ]
  }
 ],
 "metadata": {
  "kernelspec": {
   "display_name": "Python 3",
   "language": "python",
   "name": "python3"
  },
  "language_info": {
   "codemirror_mode": {
    "name": "ipython",
    "version": 3
   },
   "file_extension": ".py",
   "mimetype": "text/x-python",
   "name": "python",
   "nbconvert_exporter": "python",
   "pygments_lexer": "ipython3",
   "version": "3.7.6"
  }
 },
 "nbformat": 4,
 "nbformat_minor": 4
}
