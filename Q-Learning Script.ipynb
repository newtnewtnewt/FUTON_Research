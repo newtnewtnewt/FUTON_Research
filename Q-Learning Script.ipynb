{
 "cells": [
  {
   "cell_type": "code",
   "execution_count": 3,
   "metadata": {},
   "outputs": [],
   "source": [
    "###\n",
    "#  FUTON Model MDP + Q-Learning Creation Script\n",
    "#  A Research Project conducted by Noah Dunn \n",
    "###\n",
    "\n",
    "# Import the standard tools for working with Pandas dataframe\n",
    "import numpy as np\n",
    "import pandas as pd\n",
    "import matplotlib.pyplot as plt\n",
    "import shelve\n",
    "# Import the MDP toolbox that contains a method for conducting Q-Learning\n",
    "# Tool can be found here: https://github.com/sawcordwell/pymdptoolbox\n",
    "# Documentation for the tool can be found here \n",
    "import mdptoolbox"
   ]
  },
  {
   "cell_type": "code",
   "execution_count": 5,
   "metadata": {},
   "outputs": [],
   "source": [
    "#  The Data File that will be used to conduct the experiments\n",
    "patientdata = pd.read_csv(\"G:/MIMIC-ALL/MIMIC-PATIENTS/patient_data.csv\")"
   ]
  },
  {
   "cell_type": "code",
   "execution_count": 4,
   "metadata": {},
   "outputs": [],
   "source": [
    "### \n",
    "#  An MDP, or Markov Decision Process is used to model relationships between various states and actions.\n",
    "#  A state can be thought of in medical solution as a patient's diagnosis based on current vitals and state of being. \n",
    "#  An action can be thought of as a change in current diagnosis based on one of those vitals.\n",
    "###\n",
    "\n",
    "\n",
    "# The initial MDP matrix\n",
    "# We need the values of weights that determines how much the model\n",
    "# prefers transitioning from one state (medical conditional), to another\n",
    "# The Matrix must be in the form [[S1][S2][A]] Where S1 is initial state, S2 is the second state, and\n",
    "# A is the action taken to get from S1 to S2. \n",
    "transitions = [[][][]]\n",
    "\n",
    "# We need to determine the reward value for predicting an outcome leading to survival (+)\n",
    "# and a penalty for an outcome that will yield death (-)\n",
    "# The Matrix must be in the form [[S1][S2][R]] Where S1 is initial state, S2 is the second state, and\n",
    "# R is the reward for taking the action from S1 to S2. \n",
    "reward = [[][][]]\n",
    "\n",
    "# We need to determine the discount value to influence the model to continue changing\n",
    "# when outcomes are not desired, This value should be kept in the range 0 < discount < 1\n",
    "discount = 1\n",
    "\n",
    "# The Q-Learning algorithm will run a fixed number of times\n",
    "numOfIterations = 10000\n",
    "\n",
    "# We need to determine whether or not we waant to validate that the transitions and rewards matrix\n",
    "# to make sure they are valid, this option will only be turned off for speed\n",
    "scheck = False\n"
   ]
  },
  {
   "cell_type": "code",
   "execution_count": null,
   "metadata": {},
   "outputs": [],
   "source": []
  },
  {
   "cell_type": "code",
   "execution_count": null,
   "metadata": {},
   "outputs": [],
   "source": []
  }
 ],
 "metadata": {
  "kernelspec": {
   "display_name": "Python 3",
   "language": "python",
   "name": "python3"
  },
  "language_info": {
   "codemirror_mode": {
    "name": "ipython",
    "version": 3
   },
   "file_extension": ".py",
   "mimetype": "text/x-python",
   "name": "python",
   "nbconvert_exporter": "python",
   "pygments_lexer": "ipython3",
   "version": "3.7.6"
  }
 },
 "nbformat": 4,
 "nbformat_minor": 4
}
