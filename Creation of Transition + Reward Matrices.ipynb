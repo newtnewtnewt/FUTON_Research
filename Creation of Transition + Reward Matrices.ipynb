{
 "cells": [
  {
   "cell_type": "code",
   "execution_count": null,
   "metadata": {},
   "outputs": [],
   "source": [
    "###\n",
    "#  FUTON Model MDP + Q-Learning Creation Script\n",
    "#  A Research Project conducted by Noah Dunn \n",
    "###\n",
    "\n",
    "# Import the standard tools for working with Pandas dataframe\n",
    "import numpy as np\n",
    "import pandas as pd\n",
    "import matplotlib.pyplot as plt\n",
    "import shelve\n",
    "# Import the MDP toolbox that contains a method for conducting Q-Learning\n",
    "# Tool can be found here: https://github.com/sawcordwell/pymdptoolbox\n",
    "# Documentation for the tool can be found here \n",
    "import mdptoolbox"
   ]
  },
  {
   "cell_type": "code",
   "execution_count": 23,
   "metadata": {},
   "outputs": [
    {
     "name": "stdout",
     "output_type": "stream",
     "text": [
      "[[-0.2254902  -0.32352941 -0.42817647 ... -0.07048865  0.20045151\n",
      "   0.04158715]\n",
      " [ 0.09405941 -0.04455446 -0.47672277 ...  0.66545596  0.32843116\n",
      "   0.42501051]\n",
      " [ 0.04545455 -0.15454545 -0.49425455 ...  0.30664516  0.28904419\n",
      "   0.42852166]\n",
      " ...\n",
      " [-0.34615385 -0.38461538 -0.46365385 ... -1.47820946 -0.18871191\n",
      "   0.04611651]\n",
      " [ 0.01351351 -0.01351351 -0.46678378 ...  0.34582232  0.109389\n",
      "   0.14752571]\n",
      " [ 0.5        -0.5        -0.5        ... -1.52106461 -2.31206609\n",
      "  -1.85290276]] \n",
      " Dimensions:  750  x  50 \n",
      "         gender  mechvent  max_dose_vaso  re_admission  qSOFAFlag  SOFAFlag  \\\n",
      "8         -0.5      -0.5           -0.5     -2.302585        0.5       0.5   \n",
      "9         -0.5      -0.5           -0.5     -2.302585        0.5       0.5   \n",
      "10        -0.5      -0.5           -0.5     -2.302585        0.5       0.5   \n",
      "13         0.5      -0.5           -0.5      0.095310       -0.5      -0.5   \n",
      "19         0.5      -0.5           -0.5      0.095310        0.5      -0.5   \n",
      "...        ...       ...            ...           ...        ...       ...   \n",
      "238322    -0.5      -0.5           -0.5     -2.302585        0.5      -0.5   \n",
      "238325    -0.5      -0.5           -0.5     -2.302585        0.5      -0.5   \n",
      "238326    -0.5      -0.5           -0.5     -2.302585        0.5      -0.5   \n",
      "238328    -0.5      -0.5           -0.5     -2.302585        0.5      -0.5   \n",
      "238329    -0.5      -0.5           -0.5     -2.302585        0.5      -0.5   \n",
      "\n",
      "             age  Weight_kg     GCS        HR  ...       BUN  Creatinine  \\\n",
      "8      -0.973100  -0.169199  0.7392 -1.016767  ... -1.054386   -0.679473   \n",
      "9      -0.973100  -0.136382  0.7392 -0.557972  ... -1.054386   -0.679473   \n",
      "10     -0.973100  -0.128178  0.7392 -0.616792  ... -1.054386   -0.679473   \n",
      "13      1.181801   0.761985  0.7392 -0.757960  ...  1.039323    0.838360   \n",
      "19      1.181801   0.761985  0.7392 -0.685415  ...  0.947370    0.506023   \n",
      "...          ...        ...     ...       ...  ...       ...         ...   \n",
      "238322 -2.467202   3.871400  0.7392  0.324326  ... -1.909177   -0.494229   \n",
      "238325 -2.467202  -0.361999  0.7392  0.191981  ... -1.909177   -0.494229   \n",
      "238326 -2.467202   0.228708  0.7392 -0.072708  ... -1.909177   -0.494229   \n",
      "238328 -2.467202  -0.403020  0.7392 -1.102056  ... -1.909177   -0.494229   \n",
      "238329 -2.467202  -0.403020  0.7392 -0.695219  ... -1.909177   -0.494229   \n",
      "\n",
      "            SGOT      SGPT  Total_bili       INR  input_total  input_4hourly  \\\n",
      "8      -0.268657 -0.220159    1.441276 -0.214109     0.856817       0.240649   \n",
      "9      -0.268657 -0.220159    1.441276 -0.692745     0.861452       0.240649   \n",
      "10     -0.268657 -0.220159    1.441276 -0.444213     0.866052       0.240649   \n",
      "13      0.548053  0.063563    1.160668 -1.258851    -6.044334      -1.521065   \n",
      "19      0.548053  0.063563    1.160668 -1.258851    -6.044334      -1.521065   \n",
      "...          ...       ...         ...       ...          ...            ...   \n",
      "238322 -0.342740  0.259855   -0.922661  0.000113     0.124368       0.096264   \n",
      "238325  0.901093  0.140315   -1.185843 -0.962914     0.142258      -1.521065   \n",
      "238326 -0.892408 -0.604775   -1.185843 -0.692745     0.142258      -1.521065   \n",
      "238328  0.143061 -0.192522   -0.180792  0.566220     0.142258      -1.521065   \n",
      "238329  0.143061 -0.192522   -0.180792  0.566220     0.142258      -1.521065   \n",
      "\n",
      "        output_total  output_4hourly  \n",
      "8           0.839265        0.516428  \n",
      "9           0.845211        0.574363  \n",
      "10          0.854390        0.712419  \n",
      "13         -2.312066       -1.852903  \n",
      "19          0.402278        0.464152  \n",
      "...              ...             ...  \n",
      "238322      0.413572        0.537015  \n",
      "238325      0.530930        0.743862  \n",
      "238326      0.567943        0.789867  \n",
      "238328      0.587895        0.637420  \n",
      "238329      0.610678        0.701156  \n",
      "\n",
      "[47952 rows x 50 columns]\n"
     ]
    }
   ],
   "source": [
    "# Python has object serialization to make write/reads fasters, in the form of pickle\n",
    "import pickle\n",
    "\n",
    "# Read these values back in from being saved to file\n",
    "cluster_values = []\n",
    "cluster_labels = [] \n",
    "sample_zscores = []\n",
    "\n",
    "with open ('cluster_centers.txt', 'rb') as fp:\n",
    "    cluster_values = pickle.load(fp)\n",
    "with open ('cluster_labels.txt', 'rb') as fp:\n",
    "    cluster_labels = pickle.load(fp)\n",
    "with open ('sample_zscores.txt', 'rb') as fp:\n",
    "    sample_zscores = pickle.load(fp)\n",
    "    \n",
    "print(cluster_values, \"\\n\", \"Dimensions: \", len(cluster_values),\" x \", len(cluster_values[0]), \"\\n\", sample_zscores)"
   ]
  },
  {
   "cell_type": "code",
   "execution_count": 33,
   "metadata": {},
   "outputs": [
    {
     "name": "stdout",
     "output_type": "stream",
     "text": [
      "47952\n",
      "179\n"
     ]
    }
   ],
   "source": [
    "# We now want to use the clusters to determine their nearest real data point neighbors\n",
    "# As a visual of this. Suppose we have 4 flags of different colors scattered over a park. The K-Means++ algorithm\n",
    "# is what planted the flags in the middle of groups of people that are similar. The KNN Search (K nearest neighbor search)\n",
    "# can be used in MatLab as a simple point finder instead of as a more complicated Supervised Learning algorithm. In Python \n",
    "# we can make use of the Vector Quanization (vq) package to assign each point to a centroid\n",
    "from scipy.cluster.vq import vq\n",
    "closest_clusters = vq(sample_zscores, cluster_values)\n",
    "\n",
    "# Check to make sure each cluster has a value\n",
    "print(len(closest_clusters[0]))\n",
    "\n",
    "# As an aside, closest_clusters[1] contains the distance between each point's values (in this case 50 of them)\n",
    "# and their closest cluster's values.\n",
    "# Ex: If a point is [1, 1, 1] and it's closest cluster is the point [3, 3, 3]  closest_clusters[1] would contain the vector\n",
    "# [abs(3 - 1), abs(3 - 1), abs(3 - 1)] or [2, 2, 2]\n",
    "\n",
    "# Validate that all the points are in the range 0-749 (since there are only 750 clusters as specified previously)\n",
    "for i in closest_clusters[0]:\n",
    "    if(i > 749 or )"
   ]
  },
  {
   "cell_type": "code",
   "execution_count": null,
   "metadata": {},
   "outputs": [],
   "source": [
    "# The initial MDP matrix\n",
    "# We need the values of weights that determines how much the model\n",
    "# prefers transitioning from one state (medical conditional), to another\n",
    "# The Matrix must be in the form [[S1][S2][A]] Where S1 is initial state, S2 is the second state, and\n",
    "# A is the action taken to get from S1 to S2. \n",
    "transitions = [[][][]]\n",
    "\n",
    "# We need to determine the reward value for predicting an outcome leading to survival (+)\n",
    "# and a penalty for an outcome that will yield death (-)\n",
    "# The Matrix must be in the form [[S1][S2][R]] Where S1 is initial state, S2 is the second state, and\n",
    "# R is the reward for taking the action from S1 to S2. \n",
    "reward = [[][][]]\n",
    "\n",
    "# We need to determine the discount value to influence the model to continue changing\n",
    "# when outcomes are not desired, This value should be kept in the range 0 < discount < 1\n",
    "discount = 1\n",
    "\n",
    "# The Q-Learning algorithm will run a fixed number of times\n",
    "numOfIterations = 10000\n",
    "\n",
    "# We need to determine whether or not we waant to validate that the transitions and rewards matrix\n",
    "# to make sure they are valid, this option will only be turned off for speed\n",
    "scheck = False\n"
   ]
  },
  {
   "cell_type": "code",
   "execution_count": null,
   "metadata": {},
   "outputs": [],
   "source": []
  }
 ],
 "metadata": {
  "kernelspec": {
   "display_name": "Python 3",
   "language": "python",
   "name": "python3"
  },
  "language_info": {
   "codemirror_mode": {
    "name": "ipython",
    "version": 3
   },
   "file_extension": ".py",
   "mimetype": "text/x-python",
   "name": "python",
   "nbconvert_exporter": "python",
   "pygments_lexer": "ipython3",
   "version": "3.7.6"
  }
 },
 "nbformat": 4,
 "nbformat_minor": 4
}
