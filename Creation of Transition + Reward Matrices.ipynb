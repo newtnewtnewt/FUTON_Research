{
 "cells": [
  {
   "cell_type": "code",
   "execution_count": 3,
   "metadata": {},
   "outputs": [],
   "source": [
    "###\n",
    "#  FUTON Model MDP + Q-Learning Creation Script\n",
    "#  A Research Project conducted by Noah Dunn \n",
    "###\n",
    "\n",
    "# Import the standard tools for working with Pandas dataframe\n",
    "import numpy as np\n",
    "import pandas as pd\n",
    "import matplotlib.pyplot as plt\n",
    "import shelve\n",
    "# Import the MDP toolbox that contains a method for conducting Q-Learning\n",
    "# Tool can be found here: https://github.com/sawcordwell/pymdptoolbox\n",
    "# Documentation for the tool can be found here \n",
    "import mdptoolbox"
   ]
  },
  {
   "cell_type": "code",
   "execution_count": 4,
   "metadata": {},
   "outputs": [],
   "source": [
    "#  The Data File that will be used to conduct the experiments\n",
    "patientdata = pd.read_csv(\"G:/MIMIC-ALL/MIMIC-PATIENTS/patient_data_modified.csv\")"
   ]
  },
  {
   "cell_type": "code",
   "execution_count": 5,
   "metadata": {},
   "outputs": [],
   "source": [
    "### \n",
    "#  An MDP, or Markov Decision Process is used to model relationships between various states and actions.\n",
    "#  A state can be thought of in medical solution as a patient's diagnosis based on current vitals and state of being. \n",
    "#  An action can be thought of as a change in current diagnosis based on one of those vitals.\n",
    "#  The inspirations for the bulk of this code came from Komorowksi's AI Clinician which can be found \n",
    "#  here: https://github.com/matthieukomorowski/AI_Clinician/blob/master/AIClinician_core_160219.m\n",
    "###\n",
    "\n",
    "###\n",
    "# Begin by establishing some global variables for use in the MDP creation\n",
    "###\n",
    "mdp_count = 500            # The number of repititions we want/count of MDPs we need to create \n",
    "clustering_iter = 32       # The number of times clustering will be conducted\n",
    "cluster_sample = 0.25      # Proportion of the data used for clustering\n",
    "gamma = 0.99               # How close we desire clusters to be in similarity (Percentage)\n",
    "transition_threshold = 5   # The cutoff value for the transition matrix\n",
    "final_policies = 1         # The number of policies we would like to end up with\n",
    "state_count = 750          # The number of distinct states\n",
    "action_count = 5           # Number of actions per state (reccommended 2 to 10)\n",
    "crossval_iter = 10         # Number of crossvalidation runs (Default is 80% Train, 20% Test)"
   ]
  },
  {
   "cell_type": "code",
   "execution_count": 6,
   "metadata": {},
   "outputs": [
    {
     "name": "stdout",
     "output_type": "stream",
     "text": [
      "[[-0.2254902  -0.32352941 -0.42817647 ... -0.07048865  0.20045151\n",
      "   0.04158715]\n",
      " [ 0.09405941 -0.04455446 -0.47672277 ...  0.66545596  0.32843116\n",
      "   0.42501051]\n",
      " [ 0.04545455 -0.15454545 -0.49425455 ...  0.30664516  0.28904419\n",
      "   0.42852166]\n",
      " ...\n",
      " [-0.34615385 -0.38461538 -0.46365385 ... -1.47820946 -0.18871191\n",
      "   0.04611651]\n",
      " [ 0.01351351 -0.01351351 -0.46678378 ...  0.34582232  0.109389\n",
      "   0.14752571]\n",
      " [ 0.5        -0.5        -0.5        ... -1.52106461 -2.31206609\n",
      "  -1.85290276]] \n",
      " Dimensions:  750  x  50 \n",
      "         gender  mechvent  max_dose_vaso  re_admission  qSOFAFlag  SOFAFlag  \\\n",
      "8         -0.5      -0.5           -0.5     -2.302585        0.5       0.5   \n",
      "9         -0.5      -0.5           -0.5     -2.302585        0.5       0.5   \n",
      "10        -0.5      -0.5           -0.5     -2.302585        0.5       0.5   \n",
      "13         0.5      -0.5           -0.5      0.095310       -0.5      -0.5   \n",
      "19         0.5      -0.5           -0.5      0.095310        0.5      -0.5   \n",
      "...        ...       ...            ...           ...        ...       ...   \n",
      "238322    -0.5      -0.5           -0.5     -2.302585        0.5      -0.5   \n",
      "238325    -0.5      -0.5           -0.5     -2.302585        0.5      -0.5   \n",
      "238326    -0.5      -0.5           -0.5     -2.302585        0.5      -0.5   \n",
      "238328    -0.5      -0.5           -0.5     -2.302585        0.5      -0.5   \n",
      "238329    -0.5      -0.5           -0.5     -2.302585        0.5      -0.5   \n",
      "\n",
      "             age  Weight_kg     GCS        HR  ...       BUN  Creatinine  \\\n",
      "8      -0.973100  -0.169199  0.7392 -1.016767  ... -1.054386   -0.679473   \n",
      "9      -0.973100  -0.136382  0.7392 -0.557972  ... -1.054386   -0.679473   \n",
      "10     -0.973100  -0.128178  0.7392 -0.616792  ... -1.054386   -0.679473   \n",
      "13      1.181801   0.761985  0.7392 -0.757960  ...  1.039323    0.838360   \n",
      "19      1.181801   0.761985  0.7392 -0.685415  ...  0.947370    0.506023   \n",
      "...          ...        ...     ...       ...  ...       ...         ...   \n",
      "238322 -2.467202   3.871400  0.7392  0.324326  ... -1.909177   -0.494229   \n",
      "238325 -2.467202  -0.361999  0.7392  0.191981  ... -1.909177   -0.494229   \n",
      "238326 -2.467202   0.228708  0.7392 -0.072708  ... -1.909177   -0.494229   \n",
      "238328 -2.467202  -0.403020  0.7392 -1.102056  ... -1.909177   -0.494229   \n",
      "238329 -2.467202  -0.403020  0.7392 -0.695219  ... -1.909177   -0.494229   \n",
      "\n",
      "            SGOT      SGPT  Total_bili       INR  input_total  input_4hourly  \\\n",
      "8      -0.268657 -0.220159    1.441276 -0.214109     0.856817       0.240649   \n",
      "9      -0.268657 -0.220159    1.441276 -0.692745     0.861452       0.240649   \n",
      "10     -0.268657 -0.220159    1.441276 -0.444213     0.866052       0.240649   \n",
      "13      0.548053  0.063563    1.160668 -1.258851    -6.044334      -1.521065   \n",
      "19      0.548053  0.063563    1.160668 -1.258851    -6.044334      -1.521065   \n",
      "...          ...       ...         ...       ...          ...            ...   \n",
      "238322 -0.342740  0.259855   -0.922661  0.000113     0.124368       0.096264   \n",
      "238325  0.901093  0.140315   -1.185843 -0.962914     0.142258      -1.521065   \n",
      "238326 -0.892408 -0.604775   -1.185843 -0.692745     0.142258      -1.521065   \n",
      "238328  0.143061 -0.192522   -0.180792  0.566220     0.142258      -1.521065   \n",
      "238329  0.143061 -0.192522   -0.180792  0.566220     0.142258      -1.521065   \n",
      "\n",
      "        output_total  output_4hourly  \n",
      "8           0.839265        0.516428  \n",
      "9           0.845211        0.574363  \n",
      "10          0.854390        0.712419  \n",
      "13         -2.312066       -1.852903  \n",
      "19          0.402278        0.464152  \n",
      "...              ...             ...  \n",
      "238322      0.413572        0.537015  \n",
      "238325      0.530930        0.743862  \n",
      "238326      0.567943        0.789867  \n",
      "238328      0.587895        0.637420  \n",
      "238329      0.610678        0.701156  \n",
      "\n",
      "[47952 rows x 50 columns]\n"
     ]
    }
   ],
   "source": [
    "# Python has object serialization to make write/reads fasters, in the form of pickle\n",
    "import pickle\n",
    "\n",
    "# Read these values back in from being saved to file\n",
    "cluster_values = []\n",
    "cluster_labels = [] \n",
    "sample_zscores = []\n",
    "\n",
    "with open ('cluster_centers.txt', 'rb') as fp:\n",
    "    cluster_values = pickle.load(fp)\n",
    "with open ('cluster_labels.txt', 'rb') as fp:\n",
    "    cluster_labels = pickle.load(fp)\n",
    "with open ('sample_zscores.txt', 'rb') as fp:\n",
    "    sample_zscores = pickle.load(fp)\n",
    "    \n",
    "print(cluster_values, \"\\n\", \"Dimensions: \", len(cluster_values),\" x \", len(cluster_values[0]), \"\\n\", sample_zscores)"
   ]
  },
  {
   "cell_type": "code",
   "execution_count": 7,
   "metadata": {},
   "outputs": [
    {
     "name": "stdout",
     "output_type": "stream",
     "text": [
      "47952\n"
     ]
    }
   ],
   "source": [
    "# We now want to use the clusters to determine their nearest real data point neighbors\n",
    "# As a visual of this. Suppose we have 4 flags of different colors scattered over a park. The K-Means++ algorithm\n",
    "# is what planted the flags in the middle of groups of people that are similar. The KNN Search (K nearest neighbor search)\n",
    "# can be used in MatLab as a simple point finder instead of as a more complicated Supervised Learning algorithm. In Python \n",
    "# we can make use of the Vector Quanization (vq) package to assign each point to a centroid\n",
    "from scipy.cluster.vq import vq\n",
    "closest_clusters = vq(sample_zscores, cluster_values)\n",
    "\n",
    "# Check to make sure each cluster has a value\n",
    "print(len(closest_clusters[0]))\n",
    "\n",
    "# As an aside, closest_clusters[1] contains the distance between each point's values (in this case 50 of them)\n",
    "# and their closest cluster's values.\n",
    "# Ex: If a point is [1, 1, 1] and it's closest cluster is the point [3, 3, 3]  closest_clusters[1] would contain the vector\n",
    "# [abs(3 - 1), abs(3 - 1), abs(3 - 1)] or [2, 2, 2]\n",
    "\n",
    "# Validate that all the points are in the range 0-749 (since there are only 750 clusters as specified previously)\n",
    "for i in closest_clusters[0]:\n",
    "    if(i > 749 or i < 0):\n",
    "        print(\"The clusters you are searching for are not configured properly and are out of bounds\")\n",
    "        print(\"Did you modify the cluster_count variable without changing this error configuration?\")\n",
    "        exit()"
   ]
  },
  {
   "cell_type": "code",
   "execution_count": 8,
   "metadata": {
    "scrolled": true
   },
   "outputs": [
    {
     "name": "stdout",
     "output_type": "stream",
     "text": [
      "Old Lowest IV Fluid Rank:  1.5\n",
      "New Highest IV Fluid Rank:  173142.0\n",
      "Old Lowest IV Fluid Rank:  0.0\n",
      "New Highest IV Fluid Rank:  1.0\n",
      "0         2\n",
      "1         3\n",
      "2         3\n",
      "3         3\n",
      "4         2\n",
      "         ..\n",
      "238325    1\n",
      "238326    1\n",
      "238327    1\n",
      "238328    1\n",
      "238329    1\n",
      "Length: 238330, dtype: int64\n",
      "0         1.0\n",
      "1         2.0\n",
      "2         2.0\n",
      "3         2.0\n",
      "4         1.0\n",
      "         ... \n",
      "238319    3.0\n",
      "238320    4.0\n",
      "238321    4.0\n",
      "238322    1.0\n",
      "238324    2.0\n",
      "Name: input_4hourly, Length: 173142, dtype: float64\n"
     ]
    }
   ],
   "source": [
    "### \n",
    "#  We want to begin constructing the set of possible actions between states\n",
    "###\n",
    "\n",
    "# The number of possible actions is represented as an action_count by action_count matrix\n",
    "# This is assuming that any action in the list can lead to any other action \n",
    "number_actions = action_count * action_count\n",
    "\n",
    "#  This may prove to be not as useful since this is diagnosis based: extracting information on\n",
    "#  Fluid input and max dose of vasopressors\n",
    "iv_fluid = patientdata['input_4hourly']\n",
    "\n",
    "#  Avoid any fluid that is 0 (That was not administered)\n",
    "iv_fluid = iv_fluid[iv_fluid > 0]\n",
    "# Determine minimum and maxium to scale data appropriately\n",
    "print(\"Old Lowest IV Fluid Rank: \", min(iv_fluid.rank()))\n",
    "print(\"New Highest IV Fluid Rank: \", max(iv_fluid.rank()))\n",
    "# Now we want to rank these actions in order of their value (lowest to highest)\n",
    "# We normalize our range from (1.5, 173142.0) to (0, 1)\n",
    "\n",
    "# Moving the minimum to zero\n",
    "iv_fluid_ranks = (iv_fluid.rank() - min(iv_fluid.rank()))\n",
    "# Shifting the max to approximately 1\n",
    "iv_fluid_ranks = iv_fluid_ranks / max(iv_fluid_ranks)\n",
    "\n",
    "# Validate that the range is indeed 0 to 1\n",
    "print(\"Old Lowest IV Fluid Rank: \", min(iv_fluid_ranks))\n",
    "print(\"New Highest IV Fluid Rank: \", max(iv_fluid_ranks))\n",
    "\n",
    "if round(max(iv_fluid_ranks), 3) != 1 or round(min(iv_fluid_ranks), 3) != 0:\n",
    "    print(\"The ranks are not normalized correctly, either the max is too high, or the minium is too low\")\n",
    "    print(\"Current max: \", round(max(iv_fluid_ranks), 3))\n",
    "    print(\"Curret min: \", round(min(iv_fluid_ranks), 3))\n",
    "    exit()\n",
    "\n",
    "# This is a mathematics trick to seperate all the values into three distinct groups based on their rank.\n",
    "# Since ranks are determined based on Vasopressor quantity, the four groups represent the amount of iv fluid\n",
    "# Administered to a patient (Group 1 - Low, Group 2 - Mid-Low, Group 3 - Mid-High, Group 4 - High)\n",
    "iv_fluid_groups = np.floor((iv_fluid_ranks + 0.2499999999) * 4)\n",
    "\n",
    "# Validate that groups are all associated with the numbers 1-4\n",
    "if not(iv_fluid_groups.isin([1,2,3,4]).any()):\n",
    "    print(\"Groups chosen fall outside the desired 1-4 window\")\n",
    "    \n",
    "# If an IV fluid amount is 0, we denote it to be action 1. \n",
    "# If an IV fluid falls into non-zero amounts, we use ranks built above (1 - 4) plus one. Making \n",
    "# the subset of these actions to be action 2 thru 5.\n",
    "# In short, the model can choose to give a 'patient' 5 different IV amounts \n",
    "num_of_rows = patientdata['input_4hourly'].size\n",
    "iv_fluid_actions = pd.Series([1 for i in range(0, num_of_rows)])\n",
    "\n",
    "# If the value was non-zero and grouped in the 1 - 4 groups, we grab its value to save as an action\n",
    "for index in iv_fluid_groups.index:\n",
    "    iv_fluid_actions[index] = iv_fluid_groups[index] + 1\n",
    "\n",
    "print(iv_fluid_actions)\n",
    "print(iv_fluid_groups)\n"
   ]
  },
  {
   "cell_type": "code",
   "execution_count": 97,
   "metadata": {},
   "outputs": [],
   "source": [
    "###\n",
    "# The generate_action_column function takes 4 arguments: \n",
    "#\n",
    "# column_values: A series of column values from a dataframe that we want to turn into action states\n",
    "# num_groups: How many groups or distinct actions we want to split the data into\n",
    "# column_name: The name of the column used for print debug statements\n",
    "# num_rows: The total number of rows in the full column before modifications (This is normally patientdata[column_name].size)\n",
    "# \n",
    "# This function returns column_actions, a series that represents the 'action', or group that each row of data falls under.\n",
    "#\n",
    "# An example is found down below, but in words, this function takes a full column of data, groups \n",
    "# the values for that data into num_groups distinct actions, and returns a series representing actions based on row\n",
    "# \n",
    "# Ex: Patients' blood pressure might be grouped into 5 categories (Action 1: < 20 mmHg, Action 2: > 20 mmHg && < 60 mmHg... etc)\n",
    "###\n",
    "\n",
    "def generate_action_column(column_values, num_groups, column_name, num_rows):\n",
    "    # Determine minimum and maxium to scale data appropriately\n",
    "    print(\"Old Lowest \", column_name, \" Rank: \", min(column_values.rank()))\n",
    "    print(\"Old Highest \" , column_name,  \" Rank: \", max(column_values.rank()))\n",
    "    # Now we want to rank these actions in order of their value (lowest to highest)\n",
    "    # Normalizing according to lowest and highest rank\n",
    "    \n",
    "    # Moving the minimum to zero\n",
    "    column_ranks = (column_values.rank() - min(column_values.rank()))\n",
    "    # Shifting the max to approximately 1\n",
    "    column_ranks = column_ranks / max(column_ranks)\n",
    "\n",
    "    # Validate that the range is indeed 0 to 1\n",
    "    print(\"New Lowest \", column_name, \" Rank: \", min(column_ranks))\n",
    "    print(\"New Highest \", column_name, \" Rank: \", max(column_ranks))\n",
    "\n",
    "    if round(max(column_ranks), 3) != 1 or round(min(column_ranks), 3) != 0:\n",
    "        print(\"The ranks are not normalized correctly, either the max is too high, or the minium is too low\")\n",
    "        print(\"Current max: \", round(max(column_ranks), 3))\n",
    "        print(\"Curret min: \", round(min(column_ranks), 3))\n",
    "        exit()\n",
    "    # This is a mathematics trick to seperate all the values into {num_groups} distinct groups based on their rank.\n",
    "    # Given different columns of interest this can take different forms. For IV fluids, this number is 4.\n",
    "    column_groups = np.floor(((column_ranks + 1.0/float(num_groups) - 0.000000001) * num_groups))\n",
    "\n",
    "    # Validate that groups are all associated with desired group split\n",
    "    if not(iv_fluid_groups.isin([i for i in range(1, num_groups + 1)]).any()):\n",
    "        print(\"Groups chosen fall outside the desired 1-4 window\")\n",
    "        exit()\n",
    "    \n",
    "    column_actions = pd.Series([1 for i in range(0, num_rows)])\n",
    "\n",
    "    # If the value was non-zero and grouped in the 1 - 4 groups, we grab its value to save as an action\n",
    "    for index in column_groups.index:\n",
    "        column_actions[index] = column_groups[index] + 1\n",
    "\n",
    "    #print(column_actions)\n",
    "    #print(column_groups)\n",
    "    return column_actions\n",
    "    \n",
    "    "
   ]
  },
  {
   "cell_type": "code",
   "execution_count": 98,
   "metadata": {},
   "outputs": [
    {
     "name": "stdout",
     "output_type": "stream",
     "text": [
      "Old Lowest  IV Fluid  Rank:  1.5\n",
      "Old Highest  IV Fluid  Rank:  173142.0\n",
      "New Lowest  IV Fluid  Rank:  0.0\n",
      "New Highest  IV Fluid  Rank:  1.0\n",
      "True\n"
     ]
    }
   ],
   "source": [
    "# This small sample insures the function performs the same as the test conducted above for IV Fluid\n",
    "iv_fluid = patientdata['input_4hourly']\n",
    "iv_fluid = iv_fluid[iv_fluid > 0]\n",
    "\n",
    "test_column = generate_action_column(iv_fluid, 4, \"IV Fluid\", patientdata['input_4hourly'].size)\n",
    "\n",
    "print(test_column.equals(iv_fluid_actions))"
   ]
  },
  {
   "cell_type": "code",
   "execution_count": 100,
   "metadata": {},
   "outputs": [
    {
     "name": "stdout",
     "output_type": "stream",
     "text": [
      "Old Lowest  Max Dose Vasopressor  Rank:  1.0\n",
      "Old Highest  Max Dose Vasopressor  Rank:  35503.0\n",
      "New Lowest  Max Dose Vasopressor  Rank:  0.0\n",
      "New Highest  Max Dose Vasopressor  Rank:  1.0\n",
      "[1 5 3 4 2]\n"
     ]
    }
   ],
   "source": [
    "# Now we want the exact same thing but done with given Vasopressor amounts\n",
    "vasopressor_administered = patientdata['max_dose_vaso']\n",
    "vasopressor_administered = vasopressor_administered[vasopressor_administered > 0]\n",
    "\n",
    "vasopressor_actions = generate_action_column(vasopressor_administered, 4, \"Max Dose Vasopressor\", patientdata['max_dose_vaso'].size)\n",
    "print(vasopressor_actions.unique())"
   ]
  },
  {
   "cell_type": "code",
   "execution_count": 101,
   "metadata": {},
   "outputs": [],
   "source": [
    "###\n",
    "# This function takes two arguments:\n",
    "# actions_column: A column of action groups generated by the above function (generate_action_column())\n",
    "# real_values: The actual values from the dataset corresponding to the same column as actions_column\n",
    "# and returns a list that contains the real median values for each 'group' actions.\n",
    "#\n",
    "# Ex: We apply the function to the action_column \"IV_Fluid\", which has split the data into 4 different groups of \n",
    "# IV_Fluid actions. This function will produce a list containing the median amount of IV_Fluid administered for each of those\n",
    "# groups (Group 1 -> Adminster 20 mL, Group 2 -> Administer 40 mL, Group 3 -> Administer 60 mL, Group 4 -> Administer 80 mL\n",
    "###\n",
    "\n",
    "def median_action_values(actions_column, real_values):\n",
    "    # Grab all the unique actions for a column and sort them\n",
    "    all_groups = np.sort(actions_column.unique())\n",
    "    # Concatanate the group number and real value for each row\n",
    "    action_set = pd.concat([actions_column, real_values], axis=1, sort=False)\n",
    "    # Name the columns for accurate querying\n",
    "    action_set.columns = ['group_id', 'data_val']\n",
    "    # Grab the median value for each group based on group number using python list comprehension\n",
    "    median_values = [np.median(action_set[action_set['group_id'] == i]['data_val']) for i in all_groups]\n",
    "    return median_values\n",
    "\n",
    "    "
   ]
  },
  {
   "cell_type": "code",
   "execution_count": 102,
   "metadata": {},
   "outputs": [
    {
     "name": "stdout",
     "output_type": "stream",
     "text": [
      "IV Action Median Values: [0.0, 30.0, 80.66666667, 308.0, 955.5037749999999] \n",
      "Vasopressor Action Median Values:  [0.0, 0.04, 0.135, 0.27, 0.7625] \n",
      "\n"
     ]
    }
   ],
   "source": [
    "iv_median_actions = median_action_values(iv_fluid_actions, patientdata['input_4hourly'])\n",
    "vasopressor_median_actions = median_action_values(vasopressor_actions, patientdata['max_dose_vaso'])\n",
    "print(\"IV Action Median Values:\", str(iv_median_actions), \"\\nVasopressor Action Median Values: \", vasopressor_median_actions, \"\\n\")"
   ]
  },
  {
   "cell_type": "code",
   "execution_count": 206,
   "metadata": {},
   "outputs": [],
   "source": [
    "iv_vaso_groups = pd.concat([iv_fluid_actions, vasopressor_actions], axis=1, sort=False)\n",
    "iv_vaso_groups.columns = ['iv_group', 'vasopressor_group']\n",
    "\n",
    "### \n",
    "#\n",
    "### \n",
    "def generate_action_matrix(list_action_columns):\n",
    "    # Drops all group combinations that are duplicates\n",
    "    list_action_columns = list_action_columns.drop_duplicates(['iv_group', 'vasopressor_group'])\n",
    "    # Sorts all combinations in order\n",
    "    list_action_columns = list_action_columns.sort_values(['iv_group', 'vasopressor_group'])\n",
    "    # Create a list based on the values from the dataframe \n",
    "    list_action_columns = list_action_columns.values.tolist()\n",
    "    print(list_action_columns)"
   ]
  },
  {
   "cell_type": "code",
   "execution_count": 207,
   "metadata": {},
   "outputs": [
    {
     "name": "stdout",
     "output_type": "stream",
     "text": [
      "[[1, 1], [1, 2], [1, 3], [1, 4], [1, 5], [2, 1], [2, 2], [2, 3], [2, 4], [2, 5], [3, 1], [3, 2], [3, 3], [3, 4], [3, 5], [4, 1], [4, 2], [4, 3], [4, 4], [4, 5], [5, 1], [5, 2], [5, 3], [5, 4], [5, 5]]\n"
     ]
    }
   ],
   "source": [
    "generate_action_matrix(iv_vaso_groups)"
   ]
  },
  {
   "cell_type": "code",
   "execution_count": null,
   "metadata": {},
   "outputs": [],
   "source": [
    "# The initial MDP matrix\n",
    "# We need the values of weights that determines how much the model\n",
    "# prefers transitioning from one state (medical conditional), to another\n",
    "# The Matrix must be in the form [[S1][S2][A]] Where S1 is initial state, S2 is the second state, and\n",
    "# A is the action taken to get from S1 to S2. \n",
    "transitions = [[][][]]\n",
    "\n",
    "# We need to determine the reward value for predicting an outcome leading to survival (+)\n",
    "# and a penalty for an outcome that will yield death (-)\n",
    "# The Matrix must be in the form [[S1][S2][R]] Where S1 is initial state, S2 is the second state, and\n",
    "# R is the reward for taking the action from S1 to S2. \n",
    "reward = [[][][]]\n",
    "\n",
    "# We need to determine the discount value to influence the model to continue changing\n",
    "# when outcomes are not desired, This value should be kept in the range 0 < discount < 1\n",
    "discount = 1\n",
    "\n",
    "# The Q-Learning algorithm will run a fixed number of times\n",
    "numOfIterations = 10000\n",
    "\n",
    "# We need to determine whether or not we waant to validate that the transitions and rewards matrix\n",
    "# to make sure they are valid, this option will only be turned off for speed\n",
    "scheck = False\n"
   ]
  },
  {
   "cell_type": "code",
   "execution_count": null,
   "metadata": {},
   "outputs": [],
   "source": []
  }
 ],
 "metadata": {
  "kernelspec": {
   "display_name": "Python 3",
   "language": "python",
   "name": "python3"
  },
  "language_info": {
   "codemirror_mode": {
    "name": "ipython",
    "version": 3
   },
   "file_extension": ".py",
   "mimetype": "text/x-python",
   "name": "python",
   "nbconvert_exporter": "python",
   "pygments_lexer": "ipython3",
   "version": "3.7.6"
  }
 },
 "nbformat": 4,
 "nbformat_minor": 4
}
