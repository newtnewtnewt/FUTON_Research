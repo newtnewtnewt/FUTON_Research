{
 "cells": [
  {
   "cell_type": "code",
   "execution_count": null,
   "metadata": {},
   "outputs": [],
   "source": [
    "###\n",
    "#  FUTON Model MDP + Q-Learning Creation Script\n",
    "#  A Research Project conducted by Noah Dunn \n",
    "###\n",
    "\n",
    "# Import the standard tools for working with Pandas dataframe\n",
    "import numpy as np\n",
    "import pandas as pd\n",
    "import matplotlib.pyplot as plt\n",
    "import shelve\n",
    "# Import the MDP toolbox that contains a method for conducting Q-Learning\n",
    "# Tool can be found here: https://github.com/sawcordwell/pymdptoolbox\n",
    "# Documentation for the tool can be found here \n",
    "import mdptoolbox"
   ]
  },
  {
   "cell_type": "code",
   "execution_count": 1,
   "metadata": {},
   "outputs": [
    {
     "name": "stdout",
     "output_type": "stream",
     "text": [
      "[[-0.2254902  -0.32352941 -0.42817647 ... -0.07048865  0.20045151\n",
      "   0.04158715]\n",
      " [ 0.09405941 -0.04455446 -0.47672277 ...  0.66545596  0.32843116\n",
      "   0.42501051]\n",
      " [ 0.04545455 -0.15454545 -0.49425455 ...  0.30664516  0.28904419\n",
      "   0.42852166]\n",
      " ...\n",
      " [-0.34615385 -0.38461538 -0.46365385 ... -1.47820946 -0.18871191\n",
      "   0.04611651]\n",
      " [ 0.01351351 -0.01351351 -0.46678378 ...  0.34582232  0.109389\n",
      "   0.14752571]\n",
      " [ 0.5        -0.5        -0.5        ... -1.52106461 -2.31206609\n",
      "  -1.85290276]] \n",
      " [321 229 527 ... 137 573 155] \n",
      "         gender  mechvent  max_dose_vaso  re_admission  qSOFAFlag  SOFAFlag  \\\n",
      "2         -0.5       0.5           -0.5     -2.302585        0.5       0.5   \n",
      "5         -0.5      -0.5           -0.5     -2.302585        0.5       0.5   \n",
      "9         -0.5      -0.5           -0.5     -2.302585        0.5       0.5   \n",
      "11        -0.5      -0.5           -0.5     -2.302585        0.5       0.5   \n",
      "20         0.5      -0.5           -0.5      0.095310        0.5      -0.5   \n",
      "...        ...       ...            ...           ...        ...       ...   \n",
      "238292    -0.5       0.5           -0.5     -2.302585        0.5      -0.5   \n",
      "238321    -0.5       0.5           -0.5     -2.302585        0.5      -0.5   \n",
      "238322    -0.5      -0.5           -0.5     -2.302585        0.5      -0.5   \n",
      "238323    -0.5      -0.5           -0.5     -2.302585        0.5      -0.5   \n",
      "238328    -0.5      -0.5           -0.5     -2.302585        0.5      -0.5   \n",
      "\n",
      "             age  Weight_kg       GCS        HR  ...       BUN  Creatinine  \\\n",
      "2      -0.973100  -0.169199 -0.640362 -0.567776  ... -1.189188   -0.679473   \n",
      "5      -0.973100  -0.169199  0.739200  0.147866  ... -1.189188   -0.679473   \n",
      "9      -0.973100  -0.136382  0.739200 -0.557972  ... -1.054386   -0.679473   \n",
      "11     -0.973100  -0.128178  0.739200 -0.499152  ... -1.054386   -0.679473   \n",
      "20      1.181801   0.761985  0.739200 -1.359393  ...  0.899073    0.410676   \n",
      "...          ...        ...       ...       ...  ...       ...         ...   \n",
      "238292 -1.902531  -1.387532 -0.630848  1.265444  ...  0.321766   -0.889485   \n",
      "238321 -2.467202   3.871400  0.025633 -0.197701  ... -1.909177   -0.494229   \n",
      "238322 -2.467202   3.871400  0.739200  0.324326  ... -1.909177   -0.494229   \n",
      "238323 -2.467202   3.871400  0.739200  0.309621  ... -1.909177   -0.494229   \n",
      "238328 -2.467202  -0.403020  0.739200 -1.102056  ... -1.909177   -0.494229   \n",
      "\n",
      "            SGOT      SGPT  Total_bili       INR  input_total  input_4hourly  \\\n",
      "2      -0.268657 -0.443987    1.387969  0.200505     0.830205       0.240649   \n",
      "5      -0.268657 -0.443987    1.387969 -0.214109     0.842703       0.240649   \n",
      "9      -0.268657 -0.220159    1.441276 -0.692745     0.861452       0.240649   \n",
      "11     -0.268657 -0.220159    1.441276  0.000113     0.867883      -0.018170   \n",
      "20     -1.166570 -1.063726   -0.288544 -1.258851    -6.044334      -1.521065   \n",
      "...          ...       ...         ...       ...          ...            ...   \n",
      "238292  0.621757  1.239340   -0.410704 -0.214109     1.809973       0.177554   \n",
      "238321 -0.342740  0.259855   -0.922661  0.000113     0.115227       0.939562   \n",
      "238322 -0.342740  0.259855   -0.922661  0.000113     0.124368       0.096264   \n",
      "238323 -0.342740  0.259855   -0.922661  0.000113     0.124368      -1.521065   \n",
      "238328  0.143061 -0.192522   -0.180792  0.566220     0.142258      -1.521065   \n",
      "\n",
      "        output_total  output_4hourly  \n",
      "2           0.790024        0.847813  \n",
      "5           0.817810        0.488522  \n",
      "9           0.845211        0.574363  \n",
      "11          0.859354        0.537015  \n",
      "20          0.421844        0.444473  \n",
      "...              ...             ...  \n",
      "238292      0.921889        0.664568  \n",
      "238321      0.385609        0.677269  \n",
      "238322      0.413572        0.537015  \n",
      "238323      0.432349        0.444473  \n",
      "238328      0.587895        0.637420  \n",
      "\n",
      "[47655 rows x 50 columns]\n"
     ]
    }
   ],
   "source": [
    "# Python has object serialization to make write/reads fasters, in the form of pickle\n",
    "import pickle\n",
    "\n",
    "# Read these values back in from being saved to file\n",
    "cluster_values = [];\n",
    "cluster_labels = []; \n",
    "sample_zscores = []\n",
    "\n",
    "with open ('cluster_centers.txt', 'rb') as fp:\n",
    "    cluster_values = pickle.load(fp)\n",
    "with open ('cluster_labels.txt', 'rb') as fp:\n",
    "    cluster_labels = pickle.load(fp)\n",
    "with open ('sample_zscores.txt', 'rb') as fp:\n",
    "    sample_zscores = pickle.load(fp)\n",
    "    \n",
    "print(cluster_values, \"\\n\", cluster_labels, \"\\n\", sample_zscores)"
   ]
  },
  {
   "cell_type": "code",
   "execution_count": 7,
   "metadata": {},
   "outputs": [
    {
     "ename": "ValueError",
     "evalue": "bad input shape (750, 50)",
     "output_type": "error",
     "traceback": [
      "\u001b[1;31m---------------------------------------------------------------------------\u001b[0m",
      "\u001b[1;31mValueError\u001b[0m                                Traceback (most recent call last)",
      "\u001b[1;32m<ipython-input-7-271eb00de966>\u001b[0m in \u001b[0;36m<module>\u001b[1;34m\u001b[0m\n\u001b[0;32m      5\u001b[0m \u001b[1;32mfrom\u001b[0m \u001b[0msklearn\u001b[0m\u001b[1;33m.\u001b[0m\u001b[0mneighbors\u001b[0m \u001b[1;32mimport\u001b[0m \u001b[0mNearestCentroid\u001b[0m\u001b[1;33m\u001b[0m\u001b[1;33m\u001b[0m\u001b[0m\n\u001b[0;32m      6\u001b[0m \u001b[0mknn_neighbors_alg\u001b[0m \u001b[1;33m=\u001b[0m \u001b[0mNearestCentroid\u001b[0m\u001b[1;33m(\u001b[0m\u001b[1;33m)\u001b[0m\u001b[1;33m\u001b[0m\u001b[1;33m\u001b[0m\u001b[0m\n\u001b[1;32m----> 7\u001b[1;33m \u001b[0mnearest_neighbors_indexes\u001b[0m \u001b[1;33m=\u001b[0m \u001b[0mknn_neighbors_alg\u001b[0m\u001b[1;33m.\u001b[0m\u001b[0mfit\u001b[0m\u001b[1;33m(\u001b[0m\u001b[0msample_zscores\u001b[0m\u001b[1;33m,\u001b[0m \u001b[0mcluster_values\u001b[0m\u001b[1;33m)\u001b[0m\u001b[1;33m\u001b[0m\u001b[1;33m\u001b[0m\u001b[0m\n\u001b[0m",
      "\u001b[1;32mG:\\anaconda\\lib\\site-packages\\sklearn\\neighbors\\_nearest_centroid.py\u001b[0m in \u001b[0;36mfit\u001b[1;34m(self, X, y)\u001b[0m\n\u001b[0;32m    107\u001b[0m             \u001b[0mX\u001b[0m\u001b[1;33m,\u001b[0m \u001b[0my\u001b[0m \u001b[1;33m=\u001b[0m \u001b[0mcheck_X_y\u001b[0m\u001b[1;33m(\u001b[0m\u001b[0mX\u001b[0m\u001b[1;33m,\u001b[0m \u001b[0my\u001b[0m\u001b[1;33m,\u001b[0m \u001b[1;33m[\u001b[0m\u001b[1;34m'csc'\u001b[0m\u001b[1;33m]\u001b[0m\u001b[1;33m)\u001b[0m\u001b[1;33m\u001b[0m\u001b[1;33m\u001b[0m\u001b[0m\n\u001b[0;32m    108\u001b[0m         \u001b[1;32melse\u001b[0m\u001b[1;33m:\u001b[0m\u001b[1;33m\u001b[0m\u001b[1;33m\u001b[0m\u001b[0m\n\u001b[1;32m--> 109\u001b[1;33m             \u001b[0mX\u001b[0m\u001b[1;33m,\u001b[0m \u001b[0my\u001b[0m \u001b[1;33m=\u001b[0m \u001b[0mcheck_X_y\u001b[0m\u001b[1;33m(\u001b[0m\u001b[0mX\u001b[0m\u001b[1;33m,\u001b[0m \u001b[0my\u001b[0m\u001b[1;33m,\u001b[0m \u001b[1;33m[\u001b[0m\u001b[1;34m'csr'\u001b[0m\u001b[1;33m,\u001b[0m \u001b[1;34m'csc'\u001b[0m\u001b[1;33m]\u001b[0m\u001b[1;33m)\u001b[0m\u001b[1;33m\u001b[0m\u001b[1;33m\u001b[0m\u001b[0m\n\u001b[0m\u001b[0;32m    110\u001b[0m         \u001b[0mis_X_sparse\u001b[0m \u001b[1;33m=\u001b[0m \u001b[0msp\u001b[0m\u001b[1;33m.\u001b[0m\u001b[0missparse\u001b[0m\u001b[1;33m(\u001b[0m\u001b[0mX\u001b[0m\u001b[1;33m)\u001b[0m\u001b[1;33m\u001b[0m\u001b[1;33m\u001b[0m\u001b[0m\n\u001b[0;32m    111\u001b[0m         \u001b[1;32mif\u001b[0m \u001b[0mis_X_sparse\u001b[0m \u001b[1;32mand\u001b[0m \u001b[0mself\u001b[0m\u001b[1;33m.\u001b[0m\u001b[0mshrink_threshold\u001b[0m\u001b[1;33m:\u001b[0m\u001b[1;33m\u001b[0m\u001b[1;33m\u001b[0m\u001b[0m\n",
      "\u001b[1;32mG:\\anaconda\\lib\\site-packages\\sklearn\\utils\\validation.py\u001b[0m in \u001b[0;36mcheck_X_y\u001b[1;34m(X, y, accept_sparse, accept_large_sparse, dtype, order, copy, force_all_finite, ensure_2d, allow_nd, multi_output, ensure_min_samples, ensure_min_features, y_numeric, warn_on_dtype, estimator)\u001b[0m\n\u001b[0;32m    758\u001b[0m                         dtype=None)\n\u001b[0;32m    759\u001b[0m     \u001b[1;32melse\u001b[0m\u001b[1;33m:\u001b[0m\u001b[1;33m\u001b[0m\u001b[1;33m\u001b[0m\u001b[0m\n\u001b[1;32m--> 760\u001b[1;33m         \u001b[0my\u001b[0m \u001b[1;33m=\u001b[0m \u001b[0mcolumn_or_1d\u001b[0m\u001b[1;33m(\u001b[0m\u001b[0my\u001b[0m\u001b[1;33m,\u001b[0m \u001b[0mwarn\u001b[0m\u001b[1;33m=\u001b[0m\u001b[1;32mTrue\u001b[0m\u001b[1;33m)\u001b[0m\u001b[1;33m\u001b[0m\u001b[1;33m\u001b[0m\u001b[0m\n\u001b[0m\u001b[0;32m    761\u001b[0m         \u001b[0m_assert_all_finite\u001b[0m\u001b[1;33m(\u001b[0m\u001b[0my\u001b[0m\u001b[1;33m)\u001b[0m\u001b[1;33m\u001b[0m\u001b[1;33m\u001b[0m\u001b[0m\n\u001b[0;32m    762\u001b[0m     \u001b[1;32mif\u001b[0m \u001b[0my_numeric\u001b[0m \u001b[1;32mand\u001b[0m \u001b[0my\u001b[0m\u001b[1;33m.\u001b[0m\u001b[0mdtype\u001b[0m\u001b[1;33m.\u001b[0m\u001b[0mkind\u001b[0m \u001b[1;33m==\u001b[0m \u001b[1;34m'O'\u001b[0m\u001b[1;33m:\u001b[0m\u001b[1;33m\u001b[0m\u001b[1;33m\u001b[0m\u001b[0m\n",
      "\u001b[1;32mG:\\anaconda\\lib\\site-packages\\sklearn\\utils\\validation.py\u001b[0m in \u001b[0;36mcolumn_or_1d\u001b[1;34m(y, warn)\u001b[0m\n\u001b[0;32m    795\u001b[0m         \u001b[1;32mreturn\u001b[0m \u001b[0mnp\u001b[0m\u001b[1;33m.\u001b[0m\u001b[0mravel\u001b[0m\u001b[1;33m(\u001b[0m\u001b[0my\u001b[0m\u001b[1;33m)\u001b[0m\u001b[1;33m\u001b[0m\u001b[1;33m\u001b[0m\u001b[0m\n\u001b[0;32m    796\u001b[0m \u001b[1;33m\u001b[0m\u001b[0m\n\u001b[1;32m--> 797\u001b[1;33m     \u001b[1;32mraise\u001b[0m \u001b[0mValueError\u001b[0m\u001b[1;33m(\u001b[0m\u001b[1;34m\"bad input shape {0}\"\u001b[0m\u001b[1;33m.\u001b[0m\u001b[0mformat\u001b[0m\u001b[1;33m(\u001b[0m\u001b[0mshape\u001b[0m\u001b[1;33m)\u001b[0m\u001b[1;33m)\u001b[0m\u001b[1;33m\u001b[0m\u001b[1;33m\u001b[0m\u001b[0m\n\u001b[0m\u001b[0;32m    798\u001b[0m \u001b[1;33m\u001b[0m\u001b[0m\n\u001b[0;32m    799\u001b[0m \u001b[1;33m\u001b[0m\u001b[0m\n",
      "\u001b[1;31mValueError\u001b[0m: bad input shape (750, 50)"
     ]
    }
   ],
   "source": [
    "# We now want to use the clusters to determine their nearest real data point neighbors\n",
    "# As a visual of this. Suppose we have 4 flags of different colors scattered over a park. The K-Means++ algorithm\n",
    "# is what planted the flags in the middle of groups of people that are similar. The KNN Search (K nearest neighbor search)\n",
    "# enables us to know which people are near which flags. In SciPy, this is done with the Nearest Centroid algorithm\n",
    "from sklearn.neighbors import NearestCentroid\n",
    "knn_neighbors_alg = NearestCentroid()\n",
    "nearest_neighbors_indexes = knn_neighbors_alg.fit(sample_zscores, cluster_values)"
   ]
  },
  {
   "cell_type": "code",
   "execution_count": null,
   "metadata": {},
   "outputs": [],
   "source": [
    "# The initial MDP matrix\n",
    "# We need the values of weights that determines how much the model\n",
    "# prefers transitioning from one state (medical conditional), to another\n",
    "# The Matrix must be in the form [[S1][S2][A]] Where S1 is initial state, S2 is the second state, and\n",
    "# A is the action taken to get from S1 to S2. \n",
    "transitions = [[][][]]\n",
    "\n",
    "# We need to determine the reward value for predicting an outcome leading to survival (+)\n",
    "# and a penalty for an outcome that will yield death (-)\n",
    "# The Matrix must be in the form [[S1][S2][R]] Where S1 is initial state, S2 is the second state, and\n",
    "# R is the reward for taking the action from S1 to S2. \n",
    "reward = [[][][]]\n",
    "\n",
    "# We need to determine the discount value to influence the model to continue changing\n",
    "# when outcomes are not desired, This value should be kept in the range 0 < discount < 1\n",
    "discount = 1\n",
    "\n",
    "# The Q-Learning algorithm will run a fixed number of times\n",
    "numOfIterations = 10000\n",
    "\n",
    "# We need to determine whether or not we waant to validate that the transitions and rewards matrix\n",
    "# to make sure they are valid, this option will only be turned off for speed\n",
    "scheck = False\n"
   ]
  },
  {
   "cell_type": "code",
   "execution_count": null,
   "metadata": {},
   "outputs": [],
   "source": []
  }
 ],
 "metadata": {
  "kernelspec": {
   "display_name": "Python 3",
   "language": "python",
   "name": "python3"
  },
  "language_info": {
   "codemirror_mode": {
    "name": "ipython",
    "version": 3
   },
   "file_extension": ".py",
   "mimetype": "text/x-python",
   "name": "python",
   "nbconvert_exporter": "python",
   "pygments_lexer": "ipython3",
   "version": "3.7.6"
  }
 },
 "nbformat": 4,
 "nbformat_minor": 4
}
