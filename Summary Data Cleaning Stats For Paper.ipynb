{
 "cells": [
  {
   "cell_type": "code",
   "execution_count": 1,
   "metadata": {},
   "outputs": [],
   "source": [
    "import pandas as pd"
   ]
  },
  {
   "cell_type": "code",
   "execution_count": 11,
   "metadata": {},
   "outputs": [],
   "source": [
    "# All the Chart Events is the scope for all the unique patients\n",
    "ce1 = pd.read_csv(\"G:/MIMIC-ALL/MIMIC-SEPSIS/ce010000.csv\")\n",
    "ce2 = pd.read_csv(\"G:/MIMIC-ALL/MIMIC-SEPSIS/ce1000020000.csv\")\n",
    "ce3 = pd.read_csv(\"G:/MIMIC-ALL/MIMIC-SEPSIS/ce2000030000.csv\")\n",
    "ce4 = pd.read_csv(\"G:/MIMIC-ALL/MIMIC-SEPSIS/ce3000040000.csv\")\n",
    "ce5 = pd.read_csv(\"G:/MIMIC-ALL/MIMIC-SEPSIS/ce4000050000.csv\")\n",
    "ce6 = pd.read_csv(\"G:/MIMIC-ALL/MIMIC-SEPSIS/ce5000060000.csv\")\n",
    "ce7 = pd.read_csv(\"G:/MIMIC-ALL/MIMIC-SEPSIS/ce6000070000.csv\")\n",
    "ce8 = pd.read_csv(\"G:/MIMIC-ALL/MIMIC-SEPSIS/ce7000080000.csv\")\n",
    "ce9 = pd.read_csv(\"G:/MIMIC-ALL/MIMIC-SEPSIS/ce8000090000.csv\")\n",
    "ce10 = pd.read_csv(\"G:/MIMIC-ALL/MIMIC-SEPSIS/ce90000100000.csv\")"
   ]
  },
  {
   "cell_type": "code",
   "execution_count": 14,
   "metadata": {},
   "outputs": [],
   "source": [
    "all_charts = [ce1, ce2, ce3, ce4, ce5, ce6, ce7, ce8, ce9, ce10]"
   ]
  },
  {
   "cell_type": "code",
   "execution_count": 17,
   "metadata": {},
   "outputs": [
    {
     "name": "stdout",
     "output_type": "stream",
     "text": [
      "60197\n"
     ]
    }
   ],
   "source": [
    "# This tells us how many patients exist in the initial dataset\n",
    "total_patients = 0\n",
    "for chart in all_charts:\n",
    "    total_patients = total_patients + len(chart['icustay_id'].unique())\n",
    "print(total_patients)"
   ]
  }
 ],
 "metadata": {
  "kernelspec": {
   "display_name": "Python 3",
   "language": "python",
   "name": "python3"
  },
  "language_info": {
   "codemirror_mode": {
    "name": "ipython",
    "version": 3
   },
   "file_extension": ".py",
   "mimetype": "text/x-python",
   "name": "python",
   "nbconvert_exporter": "python",
   "pygments_lexer": "ipython3",
   "version": "3.7.6"
  }
 },
 "nbformat": 4,
 "nbformat_minor": 4
}
