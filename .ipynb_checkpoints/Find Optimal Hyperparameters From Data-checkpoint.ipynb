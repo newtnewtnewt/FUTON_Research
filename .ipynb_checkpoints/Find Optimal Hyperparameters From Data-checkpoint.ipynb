{
 "cells": [
  {
   "cell_type": "code",
   "execution_count": 30,
   "metadata": {},
   "outputs": [],
   "source": [
    "from itertools import product as cartesian_prod\n",
    "import numpy as np\n",
    "\"\"\"\n",
    "# calculate_all_hyperparameter_combos \n",
    "# \n",
    "# Input: N/A\n",
    "# \n",
    "# Output: A 2D Float Matrix containing all the desired hyperparameters to test\n",
    "# \n",
    "\"\"\"\n",
    "def calculate_all_hyperparameter_combos():\n",
    "    # Internal function to iterate by double\n",
    "    def frange(start, stop, step):\n",
    "        i = start\n",
    "        while i < stop:\n",
    "            yield i\n",
    "            i += step\n",
    "    # Gammas are incremented by 0.01\n",
    "    # Alphas are incremented by 0.05\n",
    "    gamma_values = [round(gamma, 2) for gamma in frange(0.01, 1.0, 0.01)]\n",
    "    alpha_values = [round(alpha, 2) for alpha in frange(0.1, 1.0, 0.1)]\n",
    "    # Return all possible combinations of hyperparameters using the cartesian product\n",
    "    return list(cartesian_prod(gamma_values, alpha_values))"
   ]
  },
  {
   "cell_type": "code",
   "execution_count": 64,
   "metadata": {},
   "outputs": [],
   "source": [
    "###\n",
    "# After running all the data through the cluster, it is time to determine what the best average hyperparameters are\n",
    "## \n",
    "def determine_best_hyperparameters(file_location:str, specific_value:bool, gamma:float=-1.0, alpha:float=-1.0):\n",
    "    all_hyparameters = calculate_all_hyperparameter_combos()\n",
    "    # Open the file\n",
    "    all_values = {i:[] for i in all_hyparameters}\n",
    "    # Read and store all the accuracy values\n",
    "    with open(file_location, 'r') as f:\n",
    "        lines = f.readlines()\n",
    "        for line in lines:\n",
    "            split_line = line.split(',')\n",
    "            test_num = split_line[0]\n",
    "            alpha = float(split_line[1])\n",
    "            gamma = float(split_line[2])\n",
    "            accuracy = float(split_line[5])\n",
    "            key = (gamma, alpha)\n",
    "            all_values[key].append(accuracy)\n",
    "        # Sum all accuracy lists\n",
    "        for key, accuracies in all_values.items():\n",
    "            average = np.average(all_values[key])\n",
    "            all_values[key] = average\n",
    "        if specific_value:\n",
    "            key = (gamma, alpha)\n",
    "            print(key,\":\",all_values[key], \"-\", file_location)\n",
    "        else:\n",
    "            # Check for largest value\n",
    "            max_acc = 0\n",
    "            max_key = None\n",
    "            for key, accuracy in all_values.items():\n",
    "                if accuracy > max_acc:\n",
    "                    max_key = key\n",
    "                    max_acc = accuracy\n",
    "            print(max_key,\":\",max_acc, \"-\", file_location)\n",
    "    \n",
    "    "
   ]
  },
  {
   "cell_type": "code",
   "execution_count": 63,
   "metadata": {},
   "outputs": [
    {
     "name": "stdout",
     "output_type": "stream",
     "text": [
      "(0.86, 0.1) : 0.6643585360664213 - HyperParameterOptimizations/train_no_weighting_runs.csv\n",
      "(0.86, 0.1) : 0.6508344117546555 - HyperParameterOptimizations/train_weighted_runs.csv\n",
      "(0.84, 0.1) : 0.7048005034990829 - HyperParameterOptimizations/test_weighted_runs.csv\n",
      "(0.81, 0.1) : 0.7129023248233838 - HyperParameterOptimizations/test_no_weighting_runs.csv\n"
     ]
    }
   ],
   "source": [
    "determine_best_hyperparameters('HyperParameterOptimizations/train_no_weighting_runs.csv', False)\n",
    "determine_best_hyperparameters('HyperParameterOptimizations/train_weighted_runs.csv', False)\n",
    "determine_best_hyperparameters('HyperParameterOptimizations/test_weighted_runs.csv', False)\n",
    "determine_best_hyperparameters('HyperParameterOptimizations/test_no_weighting_runs.csv', False)"
   ]
  }
 ],
 "metadata": {
  "kernelspec": {
   "display_name": "Python 3",
   "language": "python",
   "name": "python3"
  },
  "language_info": {
   "codemirror_mode": {
    "name": "ipython",
    "version": 3
   },
   "file_extension": ".py",
   "mimetype": "text/x-python",
   "name": "python",
   "nbconvert_exporter": "python",
   "pygments_lexer": "ipython3",
   "version": "3.7.6"
  }
 },
 "nbformat": 4,
 "nbformat_minor": 4
}
