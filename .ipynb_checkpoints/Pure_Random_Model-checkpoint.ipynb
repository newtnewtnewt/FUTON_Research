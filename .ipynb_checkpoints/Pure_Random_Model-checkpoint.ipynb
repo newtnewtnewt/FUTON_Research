{
 "cells": [
  {
   "cell_type": "code",
   "execution_count": 60,
   "metadata": {},
   "outputs": [],
   "source": [
    "from ipynb.fs.full.Final_Diagnostic_Model import aggregate_dataset_construct\n",
    "from ipynb.fs.full.Final_Diagnostic_Model import zscores_for_train_and_test\n",
    "import pandas as pd\n",
    "import random as rng"
   ]
  },
  {
   "cell_type": "code",
   "execution_count": 61,
   "metadata": {},
   "outputs": [],
   "source": [
    "\"\"\"\n",
    "# evaluate_pure_random_model simply evaluates the purely random models based on an even coin flip\n",
    "# \n",
    "# Input:\n",
    "# test_flag - Boolean flags for the rows to be included in the test data set\n",
    "# MIMIC_zscores - Z-Scores generated from the base data set: patientdata\n",
    "# patientdata - The base data set to investigate\n",
    "# test_name - The name of the test being conducted\n",
    "# run_num - The number of the test run being calculated\n",
    "# is_debug - Whether or not to include print statements in the code\n",
    "# \n",
    "# Output: \n",
    "# N/A\n",
    "# \n",
    "\"\"\"\n",
    "def evaluate_pure_random_model(test_flag, MIMIC_zscores, patientdata, test_name, run_num, is_debug):\n",
    "    # Grab the unique icustays with their corresponding mortality rates\n",
    "    test_set = patientdata[test_flag][['icustayid','mortality_90d']].drop_duplicates()\n",
    "    total_alive:int = test_set['mortality_90d'].value_counts()[0]\n",
    "    total_dead:int = test_set['mortality_90d'].value_counts()[1]\n",
    "    # Construct a set of data to record\n",
    "    death_states:List[int] = test_set['mortality_90d'].tolist()\n",
    "    total_patients:int = len(death_states)\n",
    "    correct_guesses:int = 0\n",
    "    dead_instead_live:int = 0\n",
    "    live_instead_dead:int = 0\n",
    "    PATIENT_LIVED:int = 0\n",
    "    PATIENT_DIED:int = 1\n",
    "    for i in range(0, total_patients):\n",
    "        random_guess = bool(rng.getrandbits(1))\n",
    "        patient_status = death_states[i]\n",
    "        # If the random guesser guesses correctly, add to the count\n",
    "        if random_guess == patient_status:\n",
    "            correct_guesses = correct_guesses + 1\n",
    "        else:\n",
    "            # If the patient was guessed dead when they lived\n",
    "            if patient_status == PATIENT_LIVED:\n",
    "                dead_instead_live = dead_instead_live + 1\n",
    "            # If the patient was guessed alive when they died\n",
    "            else:\n",
    "                live_instead_dead = live_instead_dead + 1\n",
    "    # Grab all the calculated values\n",
    "    overall_accuracy:float = correct_guesses/total_patients\n",
    "    dead_accuracy:float = (total_dead - dead_instead_live) / total_dead\n",
    "    live_accuracy:float = (total_alive - live_instead_dead) / total_alive\n",
    "    if is_debug:\n",
    "        print(\"Test Name: \" + test_name)\n",
    "        print(\"Overall Accuracy: \" + str(overall_accuracy))\n",
    "        print(\"Accuracy for Dead: \" + str(dead_accuracy))\n",
    "        print(\"Accuracy for Living: \" + str(live_accuracy))\n",
    "        print(\"Living People Guessed Dead: \" + str(live_instead_dead))\n",
    "        print(\"Dead People Guessed Living: \" + str(dead_instead_live))\n",
    "        print(\"Total Patients: \" + str(total_patients))\n",
    "        print(\"Correct Guesses: \" + str(correct_guesses))\n",
    "        print(\"Alive People: \" + str(total_alive))\n",
    "        print(\"Dead People: \" + str(total_dead))\n",
    "        print(\"\\n\")\n",
    "    # Construct a formatted CSV string with all the values that have been set\n",
    "    total_string = (f'{run_num},{total_patients},{correct_guesses},'\n",
    "                    f'{overall_accuracy},{dead_accuracy}'\n",
    "                    f'{live_accuracy},{live_instead_dead},{dead_instead_live},'\n",
    "                    f'{total_alive},{total_dead},'\n",
    "                    f'{test_name}')\n",
    "    print(total_string)\n",
    "    if test_name == 'Test_Pure_Random':\n",
    "        with open('test_pure_random_runs.csv', 'a') as f:\n",
    "            f.write(total_string + \"\\n\")\n",
    "    \n",
    "    "
   ]
  },
  {
   "cell_type": "code",
   "execution_count": 62,
   "metadata": {},
   "outputs": [
    {
     "ename": "NameError",
     "evalue": "name 'unique_total' is not defined",
     "output_type": "error",
     "traceback": [
      "\u001b[1;31m---------------------------------------------------------------------------\u001b[0m",
      "\u001b[1;31mNameError\u001b[0m                                 Traceback (most recent call last)",
      "\u001b[1;32m<ipython-input-62-93450d634de2>\u001b[0m in \u001b[0;36m<module>\u001b[1;34m\u001b[0m\n\u001b[0;32m     10\u001b[0m     \u001b[1;32mfor\u001b[0m \u001b[0mi\u001b[0m \u001b[1;32min\u001b[0m \u001b[0mrange\u001b[0m\u001b[1;33m(\u001b[0m\u001b[1;36m0\u001b[0m\u001b[1;33m,\u001b[0m \u001b[0mlen\u001b[0m\u001b[1;33m(\u001b[0m\u001b[0mtest_flag_set\u001b[0m\u001b[1;33m)\u001b[0m\u001b[1;33m)\u001b[0m\u001b[1;33m:\u001b[0m\u001b[1;33m\u001b[0m\u001b[1;33m\u001b[0m\u001b[0m\n\u001b[0;32m     11\u001b[0m         \u001b[0mtest_flag\u001b[0m \u001b[1;33m=\u001b[0m \u001b[0mtest_flag_set\u001b[0m\u001b[1;33m[\u001b[0m\u001b[0mi\u001b[0m\u001b[1;33m]\u001b[0m\u001b[1;33m\u001b[0m\u001b[1;33m\u001b[0m\u001b[0m\n\u001b[1;32m---> 12\u001b[1;33m         \u001b[0mevaluate_pure_random_model\u001b[0m\u001b[1;33m(\u001b[0m\u001b[0mtest_flag\u001b[0m\u001b[1;33m,\u001b[0m \u001b[0mMIMIC_zscores\u001b[0m\u001b[1;33m,\u001b[0m \u001b[0mpatientdata\u001b[0m\u001b[1;33m,\u001b[0m \u001b[0mtest_name\u001b[0m\u001b[1;33m=\u001b[0m\u001b[1;34m'BULL'\u001b[0m\u001b[1;33m,\u001b[0m \u001b[0mrun_num\u001b[0m\u001b[1;33m=\u001b[0m\u001b[1;36m1\u001b[0m\u001b[1;33m,\u001b[0m \u001b[0mis_debug\u001b[0m\u001b[1;33m=\u001b[0m\u001b[1;32mTrue\u001b[0m\u001b[1;33m)\u001b[0m\u001b[1;33m\u001b[0m\u001b[1;33m\u001b[0m\u001b[0m\n\u001b[0m\u001b[0;32m     13\u001b[0m         \u001b[1;32mbreak\u001b[0m\u001b[1;33m\u001b[0m\u001b[1;33m\u001b[0m\u001b[0m\n\u001b[0;32m     14\u001b[0m \u001b[1;33m\u001b[0m\u001b[0m\n",
      "\u001b[1;32m<ipython-input-61-e54c2d9af032>\u001b[0m in \u001b[0;36mevaluate_pure_random_model\u001b[1;34m(test_flag, MIMIC_zscores, patientdata, test_name, run_num, is_debug)\u001b[0m\n\u001b[0;32m     17\u001b[0m     \u001b[1;31m# Grab the unique icustays with their corresponding mortality rates\u001b[0m\u001b[1;33m\u001b[0m\u001b[1;33m\u001b[0m\u001b[1;33m\u001b[0m\u001b[0m\n\u001b[0;32m     18\u001b[0m     \u001b[0mtest_set\u001b[0m \u001b[1;33m=\u001b[0m \u001b[0mpatientdata\u001b[0m\u001b[1;33m[\u001b[0m\u001b[0mtest_flag\u001b[0m\u001b[1;33m]\u001b[0m\u001b[1;33m[\u001b[0m\u001b[1;33m[\u001b[0m\u001b[1;34m'icustayid'\u001b[0m\u001b[1;33m,\u001b[0m\u001b[1;34m'mortality_90d'\u001b[0m\u001b[1;33m]\u001b[0m\u001b[1;33m]\u001b[0m\u001b[1;33m.\u001b[0m\u001b[0mdrop_duplicates\u001b[0m\u001b[1;33m(\u001b[0m\u001b[1;33m)\u001b[0m\u001b[1;33m\u001b[0m\u001b[1;33m\u001b[0m\u001b[0m\n\u001b[1;32m---> 19\u001b[1;33m     \u001b[0mtotal_alive\u001b[0m\u001b[1;33m:\u001b[0m\u001b[0mint\u001b[0m \u001b[1;33m=\u001b[0m \u001b[0munique_total\u001b[0m\u001b[1;33m[\u001b[0m\u001b[1;34m'mortality_90d'\u001b[0m\u001b[1;33m]\u001b[0m\u001b[1;33m.\u001b[0m\u001b[0mvalue_counts\u001b[0m\u001b[1;33m(\u001b[0m\u001b[1;33m)\u001b[0m\u001b[1;33m[\u001b[0m\u001b[1;36m0\u001b[0m\u001b[1;33m]\u001b[0m\u001b[1;33m\u001b[0m\u001b[1;33m\u001b[0m\u001b[0m\n\u001b[0m\u001b[0;32m     20\u001b[0m     \u001b[0mtotal_dead\u001b[0m\u001b[1;33m:\u001b[0m\u001b[0mint\u001b[0m \u001b[1;33m=\u001b[0m \u001b[0munique_total\u001b[0m\u001b[1;33m[\u001b[0m\u001b[1;34m'mortality_90d'\u001b[0m\u001b[1;33m]\u001b[0m\u001b[1;33m.\u001b[0m\u001b[0mvalue_counts\u001b[0m\u001b[1;33m(\u001b[0m\u001b[1;33m)\u001b[0m\u001b[1;33m[\u001b[0m\u001b[1;36m1\u001b[0m\u001b[1;33m]\u001b[0m\u001b[1;33m\u001b[0m\u001b[1;33m\u001b[0m\u001b[0m\n\u001b[0;32m     21\u001b[0m     \u001b[1;31m# Construct a set of data to record\u001b[0m\u001b[1;33m\u001b[0m\u001b[1;33m\u001b[0m\u001b[1;33m\u001b[0m\u001b[0m\n",
      "\u001b[1;31mNameError\u001b[0m: name 'unique_total' is not defined"
     ]
    }
   ],
   "source": [
    "#  The Data File that will be used to conduct the experiments\n",
    "patientdata:pd.DataFrame = pd.read_csv(\"G:/MIMIC-ALL/MIMIC-PATIENTS/patient_data_modified.csv\")\n",
    "    \n",
    "# This is the run loop to execute and save the results to the file for the Q-Learning Weighted and Unweighted Model\n",
    "if __name__ == \"__main__\":\n",
    "    # Use the function from the Diagnostic Model to generate the stratified data sets\n",
    "    train_flag_set, test_flag_set, MIMIC_zscores = aggregate_dataset_construct()\n",
    "    # Set seed for random function\n",
    "    rng.seed(123456789)\n",
    "    for i in range(0, len(test_flag_set)):\n",
    "        test_flag = test_flag_set[i]\n",
    "        evaluate_pure_random_model(test_flag, MIMIC_zscores, patientdata, test_name='BULL', run_num=1, is_debug=True)\n",
    "        break\n",
    "        "
   ]
  },
  {
   "cell_type": "code",
   "execution_count": null,
   "metadata": {},
   "outputs": [],
   "source": []
  }
 ],
 "metadata": {
  "kernelspec": {
   "display_name": "Python 3",
   "language": "python",
   "name": "python3"
  },
  "language_info": {
   "codemirror_mode": {
    "name": "ipython",
    "version": 3
   },
   "file_extension": ".py",
   "mimetype": "text/x-python",
   "name": "python",
   "nbconvert_exporter": "python",
   "pygments_lexer": "ipython3",
   "version": "3.7.6"
  }
 },
 "nbformat": 4,
 "nbformat_minor": 4
}
