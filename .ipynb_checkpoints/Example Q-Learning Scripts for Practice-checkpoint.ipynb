{
 "cells": [
  {
   "cell_type": "code",
   "execution_count": 4,
   "metadata": {},
   "outputs": [],
   "source": [
    "# These examples are reproducible only if random seed is set to 0 in \n",
    "# both the random and numpy.random modules. \n",
    "import numpy as np \n",
    "import mdptoolbox, mdptoolbox.example \n",
    "np.random.seed(0) "
   ]
  },
  {
   "cell_type": "code",
   "execution_count": 9,
   "metadata": {},
   "outputs": [
    {
     "name": "stdout",
     "output_type": "stream",
     "text": [
      "[[[0.1 0.9 0. ]\n",
      "  [0.1 0.  0.9]\n",
      "  [0.1 0.  0.9]]\n",
      "\n",
      " [[1.  0.  0. ]\n",
      "  [1.  0.  0. ]\n",
      "  [1.  0.  0. ]]]\n"
     ]
    }
   ],
   "source": [
    "P, R = mdptoolbox.example.forest()\n",
    "print(P)\n",
    "#print(R)"
   ]
  },
  {
   "cell_type": "code",
   "execution_count": 6,
   "metadata": {},
   "outputs": [
    {
     "name": "stdout",
     "output_type": "stream",
     "text": [
      "P: \n",
      "array([[0.1, 0.9, 0. ],\n",
      "       [0.1, 0. , 0.9],\n",
      "       [0.1, 0. , 0.9]])\n",
      "array([[1., 0., 0.],\n",
      "       [1., 0., 0.],\n",
      "       [1., 0., 0.]])\n",
      "\n",
      "R: \n",
      "array([0., 0.])\n",
      "array([0., 1.])\n",
      "\n"
     ]
    }
   ],
   "source": [
    "ql = mdptoolbox.mdp.QLearning(P, R, 0.96) \n",
    "print(ql)"
   ]
  },
  {
   "cell_type": "code",
   "execution_count": 7,
   "metadata": {},
   "outputs": [
    {
     "name": "stdout",
     "output_type": "stream",
     "text": [
      "[[11.198909   10.34652034]\n",
      " [10.74229967 11.74105792]\n",
      " [ 2.86980001 12.25973286]]\n"
     ]
    }
   ],
   "source": [
    "ql.run()\n",
    "ql.Q \n",
    "print(ql.Q)"
   ]
  },
  {
   "cell_type": "code",
   "execution_count": 8,
   "metadata": {},
   "outputs": [
    {
     "data": {
      "text/plain": [
       "(0, 1, 1)"
      ]
     },
     "execution_count": 8,
     "metadata": {},
     "output_type": "execute_result"
    }
   ],
   "source": [
    "expected = (11.198908998901134, 11.741057920409865, 12.259732864170232)\n",
    "all(expected[k] - ql.V[k] < 1e-12 for k in range(len(expected)))\n",
    "ql.policy "
   ]
  }
 ],
 "metadata": {
  "kernelspec": {
   "display_name": "Python 3",
   "language": "python",
   "name": "python3"
  },
  "language_info": {
   "codemirror_mode": {
    "name": "ipython",
    "version": 3
   },
   "file_extension": ".py",
   "mimetype": "text/x-python",
   "name": "python",
   "nbconvert_exporter": "python",
   "pygments_lexer": "ipython3",
   "version": "3.7.6"
  }
 },
 "nbformat": 4,
 "nbformat_minor": 4
}
